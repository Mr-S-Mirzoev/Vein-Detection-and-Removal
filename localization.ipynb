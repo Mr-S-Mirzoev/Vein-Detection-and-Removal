{
  "nbformat": 4,
  "nbformat_minor": 0,
  "metadata": {
    "colab": {
      "name": "localization.ipynb",
      "provenance": [],
      "collapsed_sections": [],
      "authorship_tag": "ABX9TyPFxElH1r5VDWs/bEg4vHEx",
      "include_colab_link": true
    },
    "kernelspec": {
      "name": "python3",
      "display_name": "Python 3"
    }
  },
  "cells": [
    {
      "cell_type": "markdown",
      "metadata": {
        "id": "view-in-github",
        "colab_type": "text"
      },
      "source": [
        "<a href=\"https://colab.research.google.com/github/Mr-S-Mirzoev/Vein-Detection-and-Removal/blob/main/localization.ipynb\" target=\"_parent\"><img src=\"https://colab.research.google.com/assets/colab-badge.svg\" alt=\"Open In Colab\"/></a>"
      ]
    },
    {
      "cell_type": "markdown",
      "metadata": {
        "id": "RDcf7zlAXNGM"
      },
      "source": [
        "# Dependencies installation"
      ]
    },
    {
      "cell_type": "code",
      "metadata": {
        "colab": {
          "base_uri": "https://localhost:8080/"
        },
        "id": "_oktfbleIaVT",
        "outputId": "8955d953-2107-431f-b303-61bd7fb0640b"
      },
      "source": [
        "# Clone Mask_RCNNN\n",
        "\n",
        "!git clone https://github.com/matterport/Mask_RCNN.git"
      ],
      "execution_count": 1,
      "outputs": [
        {
          "output_type": "stream",
          "text": [
            "Cloning into 'Mask_RCNN'...\n",
            "remote: Enumerating objects: 956, done.\u001b[K\n",
            "remote: Total 956 (delta 0), reused 0 (delta 0), pack-reused 956\u001b[K\n",
            "Receiving objects: 100% (956/956), 125.23 MiB | 17.18 MiB/s, done.\n",
            "Resolving deltas: 100% (560/560), done.\n"
          ],
          "name": "stdout"
        }
      ]
    },
    {
      "cell_type": "code",
      "metadata": {
        "colab": {
          "base_uri": "https://localhost:8080/"
        },
        "id": "gamJwr5FVC2U",
        "outputId": "96860c68-4c16-4d7a-9fc5-f4c17ad1b719"
      },
      "source": [
        "# Verify the downloading of the model\n",
        "\n",
        "!sudo apt-get install tree > /dev/null\n",
        "!tree . -d"
      ],
      "execution_count": 10,
      "outputs": [
        {
          "output_type": "stream",
          "text": [
            ".\n",
            "├── Mask_RCNN\n",
            "│   ├── assets\n",
            "│   ├── images\n",
            "│   ├── mrcnn\n",
            "│   └── samples\n",
            "│       ├── balloon\n",
            "│       ├── coco\n",
            "│       ├── nucleus\n",
            "│       └── shapes\n",
            "└── sample_data\n",
            "\n",
            "10 directories\n"
          ],
          "name": "stdout"
        }
      ]
    },
    {
      "cell_type": "code",
      "metadata": {
        "colab": {
          "base_uri": "https://localhost:8080/"
        },
        "id": "gRR8rSWmVkbn",
        "outputId": "5a43ec9f-d0bf-4581-fb7b-ed0caeb35e26"
      },
      "source": [
        "# Install the library\n",
        "\n",
        "%cd Mask_RCNN/\n",
        "!ls\n"
      ],
      "execution_count": 18,
      "outputs": [
        {
          "output_type": "stream",
          "text": [
            "/content/Mask_RCNN\n",
            "assets\tLICENSE      mrcnn\trequirements.txt  setup.cfg\n",
            "images\tMANIFEST.in  README.md\tsamples\t\t  setup.py\n"
          ],
          "name": "stdout"
        }
      ]
    },
    {
      "cell_type": "code",
      "metadata": {
        "colab": {
          "base_uri": "https://localhost:8080/"
        },
        "id": "GBP-Za6iWFXQ",
        "outputId": "691f4719-a232-4f6b-e4b6-67d3121eb3a2"
      },
      "source": [
        "!python setup.py install"
      ],
      "execution_count": 19,
      "outputs": [
        {
          "output_type": "stream",
          "text": [
            "WARNING:root:Fail load requirements file, so using default ones.\n",
            "running install\n",
            "running bdist_egg\n",
            "running egg_info\n",
            "creating mask_rcnn.egg-info\n",
            "writing mask_rcnn.egg-info/PKG-INFO\n",
            "writing dependency_links to mask_rcnn.egg-info/dependency_links.txt\n",
            "writing top-level names to mask_rcnn.egg-info/top_level.txt\n",
            "writing manifest file 'mask_rcnn.egg-info/SOURCES.txt'\n",
            "reading manifest template 'MANIFEST.in'\n",
            "writing manifest file 'mask_rcnn.egg-info/SOURCES.txt'\n",
            "installing library code to build/bdist.linux-x86_64/egg\n",
            "running install_lib\n",
            "running build_py\n",
            "creating build\n",
            "creating build/lib\n",
            "creating build/lib/mrcnn\n",
            "copying mrcnn/visualize.py -> build/lib/mrcnn\n",
            "copying mrcnn/parallel_model.py -> build/lib/mrcnn\n",
            "copying mrcnn/__init__.py -> build/lib/mrcnn\n",
            "copying mrcnn/config.py -> build/lib/mrcnn\n",
            "copying mrcnn/utils.py -> build/lib/mrcnn\n",
            "copying mrcnn/model.py -> build/lib/mrcnn\n",
            "creating build/bdist.linux-x86_64\n",
            "creating build/bdist.linux-x86_64/egg\n",
            "creating build/bdist.linux-x86_64/egg/mrcnn\n",
            "copying build/lib/mrcnn/visualize.py -> build/bdist.linux-x86_64/egg/mrcnn\n",
            "copying build/lib/mrcnn/parallel_model.py -> build/bdist.linux-x86_64/egg/mrcnn\n",
            "copying build/lib/mrcnn/__init__.py -> build/bdist.linux-x86_64/egg/mrcnn\n",
            "copying build/lib/mrcnn/config.py -> build/bdist.linux-x86_64/egg/mrcnn\n",
            "copying build/lib/mrcnn/utils.py -> build/bdist.linux-x86_64/egg/mrcnn\n",
            "copying build/lib/mrcnn/model.py -> build/bdist.linux-x86_64/egg/mrcnn\n",
            "byte-compiling build/bdist.linux-x86_64/egg/mrcnn/visualize.py to visualize.cpython-36.pyc\n",
            "byte-compiling build/bdist.linux-x86_64/egg/mrcnn/parallel_model.py to parallel_model.cpython-36.pyc\n",
            "byte-compiling build/bdist.linux-x86_64/egg/mrcnn/__init__.py to __init__.cpython-36.pyc\n",
            "byte-compiling build/bdist.linux-x86_64/egg/mrcnn/config.py to config.cpython-36.pyc\n",
            "byte-compiling build/bdist.linux-x86_64/egg/mrcnn/utils.py to utils.cpython-36.pyc\n",
            "byte-compiling build/bdist.linux-x86_64/egg/mrcnn/model.py to model.cpython-36.pyc\n",
            "creating build/bdist.linux-x86_64/egg/EGG-INFO\n",
            "copying mask_rcnn.egg-info/PKG-INFO -> build/bdist.linux-x86_64/egg/EGG-INFO\n",
            "copying mask_rcnn.egg-info/SOURCES.txt -> build/bdist.linux-x86_64/egg/EGG-INFO\n",
            "copying mask_rcnn.egg-info/dependency_links.txt -> build/bdist.linux-x86_64/egg/EGG-INFO\n",
            "copying mask_rcnn.egg-info/top_level.txt -> build/bdist.linux-x86_64/egg/EGG-INFO\n",
            "zip_safe flag not set; analyzing archive contents...\n",
            "creating dist\n",
            "creating 'dist/mask_rcnn-2.1-py3.6.egg' and adding 'build/bdist.linux-x86_64/egg' to it\n",
            "removing 'build/bdist.linux-x86_64/egg' (and everything under it)\n",
            "Processing mask_rcnn-2.1-py3.6.egg\n",
            "Copying mask_rcnn-2.1-py3.6.egg to /usr/local/lib/python3.6/dist-packages\n",
            "Adding mask-rcnn 2.1 to easy-install.pth file\n",
            "\n",
            "Installed /usr/local/lib/python3.6/dist-packages/mask_rcnn-2.1-py3.6.egg\n",
            "Processing dependencies for mask-rcnn==2.1\n",
            "Finished processing dependencies for mask-rcnn==2.1\n"
          ],
          "name": "stdout"
        }
      ]
    },
    {
      "cell_type": "code",
      "metadata": {
        "colab": {
          "base_uri": "https://localhost:8080/"
        },
        "id": "QHZoBfiBWUdA",
        "outputId": "01dd3d91-ee28-4dcb-df41-7a58f914cb59"
      },
      "source": [
        "# Confirm Library installation\n",
        "\n",
        "!pip show mask-rcnn"
      ],
      "execution_count": 21,
      "outputs": [
        {
          "output_type": "stream",
          "text": [
            "Name: mask-rcnn\n",
            "Version: 2.1\n",
            "Summary: Mask R-CNN for object detection and instance segmentation\n",
            "Home-page: https://github.com/matterport/Mask_RCNN\n",
            "Author: Matterport\n",
            "Author-email: waleed.abdulla@gmail.com\n",
            "License: MIT\n",
            "Location: /usr/local/lib/python3.6/dist-packages/mask_rcnn-2.1-py3.6.egg\n",
            "Requires: \n",
            "Required-by: \n"
          ],
          "name": "stdout"
        }
      ]
    },
    {
      "cell_type": "markdown",
      "metadata": {
        "id": "UT-Fr4hYXZIQ"
      },
      "source": [
        "# Dataset preparation"
      ]
    },
    {
      "cell_type": "code",
      "metadata": {
        "colab": {
          "base_uri": "https://localhost:8080/"
        },
        "id": "fjMeCDFfXcWZ",
        "outputId": "7c0fa14b-3297-4604-f50e-85c59e1b7725"
      },
      "source": [
        "# Cloning the dataset\n",
        "\n",
        "!git clone https://github.com/experiencor/kangaroo.git\n",
        "!tree . -d"
      ],
      "execution_count": 28,
      "outputs": [
        {
          "output_type": "stream",
          "text": [
            "fatal: destination path 'kangaroo' already exists and is not an empty directory.\n",
            ".\n",
            "├── kangaroo\n",
            "│   ├── annots\n",
            "│   └── images\n",
            "├── Mask_RCNN\n",
            "│   ├── assets\n",
            "│   ├── build\n",
            "│   │   ├── bdist.linux-x86_64\n",
            "│   │   └── lib\n",
            "│   │       └── mrcnn\n",
            "│   ├── dist\n",
            "│   ├── images\n",
            "│   ├── mask_rcnn.egg-info\n",
            "│   ├── mrcnn\n",
            "│   └── samples\n",
            "│       ├── balloon\n",
            "│       ├── coco\n",
            "│       ├── nucleus\n",
            "│       └── shapes\n",
            "└── sample_data\n",
            "\n",
            "19 directories\n"
          ],
          "name": "stdout"
        }
      ]
    },
    {
      "cell_type": "markdown",
      "metadata": {
        "id": "qcr9GUAPYbPc"
      },
      "source": [
        "The look of the xml annotation is like that:\n",
        "\n",
        "    <annotation>\n",
        "      <folder>Kangaroo</folder>\n",
        "      <filename>00001.jpg</filename>\n",
        "      <path>...</path>\n",
        "      <source>\n",
        "        <database>Unknown</database>\n",
        "      </source>\n",
        "      <size>\n",
        "        <width>450</width>\n",
        "        <height>319</height>\n",
        "        <depth>3</depth>\n",
        "      </size>\n",
        "      <segmented>0</segmented>\n",
        "      <object>\n",
        "        <name>kangaroo</name>\n",
        "        <pose>Unspecified</pose>\n",
        "        <truncated>0</truncated>\n",
        "        <difficult>0</difficult>\n",
        "        <bndbox>\n",
        "          <xmin>233</xmin>\n",
        "          <ymin>89</ymin>\n",
        "          <xmax>386</xmax>\n",
        "          <ymax>262</ymax>\n",
        "        </bndbox>\n",
        "      </object>\n",
        "      <object>\n",
        "        <name>kangaroo</name>\n",
        "        <pose>Unspecified</pose>\n",
        "        <truncated>0</truncated>\n",
        "        <difficult>0</difficult>\n",
        "        <bndbox>\n",
        "          <xmin>134</xmin>\n",
        "          <ymin>105</ymin>\n",
        "          <xmax>341</xmax>\n",
        "          <ymax>253</ymax>\n",
        "        </bndbox>\n",
        "      </object>\n",
        "    </annotation>"
      ]
    },
    {
      "cell_type": "code",
      "metadata": {
        "colab": {
          "base_uri": "https://localhost:8080/"
        },
        "id": "0QC7Jx2LX0T9",
        "outputId": "d66ea400-6a28-4490-e274-51cae2bd19f4"
      },
      "source": [
        "from xml.etree import ElementTree\n",
        " \n",
        "# function to extract bounding boxes from an annotation file\n",
        "def extract_boxes(filename):\n",
        "\t# load and parse the file\n",
        "\ttree = ElementTree.parse(filename)\n",
        "\t# get the root of the document\n",
        "\troot = tree.getroot()\n",
        "\t# extract each bounding box\n",
        "\tboxes = list()\n",
        "\tfor box in root.findall('.//bndbox'):\n",
        "\t\txmin = int(box.find('xmin').text)\n",
        "\t\tymin = int(box.find('ymin').text)\n",
        "\t\txmax = int(box.find('xmax').text)\n",
        "\t\tymax = int(box.find('ymax').text)\n",
        "\t\tcoors = [xmin, ymin, xmax, ymax]\n",
        "\t\tboxes.append(coors)\n",
        "\t# extract image dimensions\n",
        "\twidth = int(root.find('.//size/width').text)\n",
        "\theight = int(root.find('.//size/height').text)\n",
        "\treturn boxes, width, height\n",
        " \n",
        "# extract details form annotation file\n",
        "boxes, w, h = extract_boxes('kangaroo/annots/00001.xml')\n",
        "# summarize extracted details\n",
        "print(\"Boxes: {}\".format(boxes))\n",
        "print(\"Shape of the image: ({}, {})\".format(w, h))"
      ],
      "execution_count": 33,
      "outputs": [
        {
          "output_type": "stream",
          "text": [
            "Boxes: [[233, 89, 386, 262], [134, 105, 341, 253]]\n",
            "Shape of the image: (450, 319)\n"
          ],
          "name": "stdout"
        }
      ]
    },
    {
      "cell_type": "code",
      "metadata": {
        "id": "IeumLiPmYzDH"
      },
      "source": [
        ""
      ],
      "execution_count": null,
      "outputs": []
    }
  ]
}